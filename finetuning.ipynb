{
 "cells": [
  {
   "cell_type": "code",
   "execution_count": 1,
   "metadata": {
    "collapsed": true,
    "ExecuteTime": {
     "end_time": "2023-06-21T14:17:24.590594112Z",
     "start_time": "2023-06-21T14:17:23.605544430Z"
    }
   },
   "outputs": [
    {
     "name": "stderr",
     "output_type": "stream",
     "text": [
      "/home/david/anaconda3/envs/GenoPhen/lib/python3.10/site-packages/tqdm/auto.py:21: TqdmWarning: IProgress not found. Please update jupyter and ipywidgets. See https://ipywidgets.readthedocs.io/en/stable/user_install.html\n",
      "  from .autonotebook import tqdm as notebook_tqdm\n"
     ]
    }
   ],
   "source": [
    "import torch\n",
    "from transformers import RobertaConfig, RobertaModel, AutoTokenizer, RobertaTokenizerFast\n",
    "import pandas"
   ]
  },
  {
   "cell_type": "code",
   "execution_count": 2,
   "outputs": [
    {
     "name": "stderr",
     "output_type": "stream",
     "text": [
      "/tmp/ipykernel_24605/1932442386.py:2: DtypeWarning: Columns (1,5,6,30,55) have mixed types. Specify dtype option on import or set low_memory=False.\n",
      "  raw_data = pandas.read_csv(file, sep='\\t')\n"
     ]
    }
   ],
   "source": [
    "file = r\"/media/david/T7/NCBI/E.Coli.Shigella/PDG000000004.3840.amr.metadata.tsv\"\n",
    "raw_data = pandas.read_csv(file, sep='\\t')"
   ],
   "metadata": {
    "collapsed": false,
    "ExecuteTime": {
     "end_time": "2023-06-21T14:17:26.832384638Z",
     "start_time": "2023-06-21T14:17:24.592307427Z"
    }
   }
  },
  {
   "cell_type": "code",
   "execution_count": 3,
   "outputs": [],
   "source": [
    "genotype_data = raw_data[~raw_data.AMR_genotypes_core.isnull()]\n",
    "phenotype_data = raw_data[~raw_data.AST_phenotypes.isnull()]"
   ],
   "metadata": {
    "collapsed": false,
    "ExecuteTime": {
     "end_time": "2023-06-21T14:17:26.917363272Z",
     "start_time": "2023-06-21T14:17:26.837807259Z"
    }
   }
  },
  {
   "cell_type": "code",
   "execution_count": 4,
   "outputs": [
    {
     "data": {
      "text/plain": "1398"
     },
     "execution_count": 4,
     "metadata": {},
     "output_type": "execute_result"
    }
   ],
   "source": [
    "gene_vocab = genotype_data.AMR_genotypes_core.values.tolist()\n",
    "gene_vocab = [g.split(',') for g in gene_vocab]\n",
    "gene_vocab = [item for sublist in gene_vocab for item in sublist]\n",
    "gene_vocab = list(set(gene_vocab))\n",
    "with open('gene_vocabulary.txt', 'w') as f:\n",
    "    for line in gene_vocab:\n",
    "        f.write(f\"{line}\\n\")\n",
    "len(gene_vocab)"
   ],
   "metadata": {
    "collapsed": false,
    "ExecuteTime": {
     "end_time": "2023-06-21T14:17:27.358785061Z",
     "start_time": "2023-06-21T14:17:26.984262162Z"
    }
   }
  },
  {
   "cell_type": "code",
   "execution_count": 5,
   "outputs": [],
   "source": [
    "def mask_three_geno_fn(x, min_len=3):\n",
    "    all_items = x['AMR_genotypes_core'].split(',')\n",
    "    all_items = [a for a in all_items if \"=PARTIAL\" not in a]\n",
    "    all_items = [a for a in all_items if \"=PARTIAL_END_OF_CONTIG\" not in a]\n",
    "    return len(all_items) >= min_len"
   ],
   "metadata": {
    "collapsed": false,
    "ExecuteTime": {
     "end_time": "2023-06-21T14:17:27.361810782Z",
     "start_time": "2023-06-21T14:17:27.360134026Z"
    }
   }
  },
  {
   "cell_type": "code",
   "execution_count": 24,
   "outputs": [
    {
     "data": {
      "text/plain": "'glpT_E448K=POINT marR_S3N=POINT pmrB_E123D=POINT'"
     },
     "execution_count": 24,
     "metadata": {},
     "output_type": "execute_result"
    }
   ],
   "source": [
    "three_amr = genotype_data[genotype_data.apply(mask_three_geno_fn, axis=1)]\n",
    "genotype_corpus = genotype_data.AMR_genotypes_core.values.tolist()\n",
    "#genotype_corpus = [[gg.split('_')[0] for gg in g.split(',')] for g in genotype_corpus] #Removes detail from point mutation and only keeps the gene\n",
    "#genotype_corpus = [\" \".join(g) for g in genotype_corpus]\n",
    "genotype_corpus = [g.replace(',', ' ') for g in genotype_corpus]\n",
    "example = genotype_corpus[1337]\n",
    "example"
   ],
   "metadata": {
    "collapsed": false,
    "ExecuteTime": {
     "end_time": "2023-06-21T14:24:46.610047693Z",
     "start_time": "2023-06-21T14:24:45.400478474Z"
    }
   }
  },
  {
   "cell_type": "code",
   "execution_count": 25,
   "outputs": [],
   "source": [
    "def get_genotype_corpus():\n",
    "    for start_idx in range(0, len(genotype_corpus), 1000):\n",
    "        samples = genotype_corpus[start_idx: start_idx + 1000]\n",
    "        yield samples"
   ],
   "metadata": {
    "collapsed": false,
    "ExecuteTime": {
     "end_time": "2023-06-21T14:25:00.137982416Z",
     "start_time": "2023-06-21T14:25:00.091290913Z"
    }
   }
  },
  {
   "cell_type": "code",
   "execution_count": 35,
   "outputs": [
    {
     "name": "stderr",
     "output_type": "stream",
     "text": [
      "Downloading (…)okenizer_config.json: 100%|██████████| 28.0/28.0 [00:00<00:00, 239kB/s]\n",
      "Downloading (…)solve/main/vocab.txt: 232kB [00:00, 1.07MB/s]\n",
      "Downloading (…)/main/tokenizer.json: 466kB [00:00, 3.73MB/s]\n",
      "Downloading (…)lve/main/config.json: 100%|██████████| 570/570 [00:00<00:00, 5.55MB/s]\n"
     ]
    },
    {
     "name": "stdout",
     "output_type": "stream",
     "text": [
      "\n",
      "\n",
      "\n"
     ]
    },
    {
     "data": {
      "text/plain": "['glpt',\n '_',\n 'e448k',\n '=',\n 'point',\n 'marr',\n '_',\n 's3n',\n '=',\n 'point',\n 'pmrb',\n '_',\n 'e123d',\n '=',\n 'point']"
     },
     "execution_count": 35,
     "metadata": {},
     "output_type": "execute_result"
    }
   ],
   "source": [
    "training_genotype_corpus = get_genotype_corpus()\n",
    "old_tokenizer = AutoTokenizer.from_pretrained(\"bert-base-uncased\", tokenizer_type='bert', clean_text=False)\n",
    "tokenizer = old_tokenizer.train_new_from_iterator(training_genotype_corpus, 52000)\n",
    "tokens = tokenizer.tokenize(example)\n",
    "tokens"
   ],
   "metadata": {
    "collapsed": false,
    "ExecuteTime": {
     "end_time": "2023-06-21T14:33:22.031663501Z",
     "start_time": "2023-06-21T14:33:19.247438482Z"
    }
   }
  },
  {
   "cell_type": "code",
   "execution_count": 22,
   "outputs": [
    {
     "data": {
      "text/plain": "'glpT_E448K=POINT marR_S3N=POINT pmrB_E123D=POINT'"
     },
     "execution_count": 22,
     "metadata": {},
     "output_type": "execute_result"
    }
   ],
   "source": [
    "example"
   ],
   "metadata": {
    "collapsed": false,
    "ExecuteTime": {
     "end_time": "2023-06-21T14:21:52.310759950Z",
     "start_time": "2023-06-21T14:21:52.306558580Z"
    }
   }
  },
  {
   "cell_type": "code",
   "execution_count": 10,
   "outputs": [
    {
     "data": {
      "text/plain": "'glpT'"
     },
     "execution_count": 10,
     "metadata": {},
     "output_type": "execute_result"
    }
   ],
   "source": [
    "example.split(' ')[0].split('_')[0]"
   ],
   "metadata": {
    "collapsed": false,
    "ExecuteTime": {
     "end_time": "2023-06-21T14:17:30.971524974Z",
     "start_time": "2023-06-21T14:17:30.969186288Z"
    }
   }
  },
  {
   "cell_type": "code",
   "execution_count": 11,
   "outputs": [
    {
     "data": {
      "text/plain": "'aac(3)-VIa'"
     },
     "execution_count": 11,
     "metadata": {},
     "output_type": "execute_result"
    }
   ],
   "source": [
    "genotype_corpus[123].split(' ')[0].split('_')[0]"
   ],
   "metadata": {
    "collapsed": false,
    "ExecuteTime": {
     "end_time": "2023-06-21T14:17:30.982620463Z",
     "start_time": "2023-06-21T14:17:30.972714719Z"
    }
   }
  },
  {
   "cell_type": "code",
   "execution_count": 11,
   "outputs": [],
   "source": [],
   "metadata": {
    "collapsed": false,
    "ExecuteTime": {
     "end_time": "2023-06-21T14:17:31.029818675Z",
     "start_time": "2023-06-21T14:17:31.029538414Z"
    }
   }
  }
 ],
 "metadata": {
  "kernelspec": {
   "display_name": "Python 3",
   "language": "python",
   "name": "python3"
  },
  "language_info": {
   "codemirror_mode": {
    "name": "ipython",
    "version": 2
   },
   "file_extension": ".py",
   "mimetype": "text/x-python",
   "name": "python",
   "nbconvert_exporter": "python",
   "pygments_lexer": "ipython2",
   "version": "2.7.6"
  }
 },
 "nbformat": 4,
 "nbformat_minor": 0
}
