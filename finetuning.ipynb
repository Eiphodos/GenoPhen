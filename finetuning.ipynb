{
 "cells": [
  {
   "cell_type": "code",
   "execution_count": 2,
   "metadata": {
    "collapsed": true,
    "ExecuteTime": {
     "end_time": "2023-06-21T14:17:24.590594112Z",
     "start_time": "2023-06-21T14:17:23.605544430Z"
    }
   },
   "outputs": [
    {
     "name": "stderr",
     "output_type": "stream",
     "text": [
      "C:\\ProgramData\\Anaconda3\\envs\\GenoPhen\\lib\\site-packages\\tqdm\\auto.py:21: TqdmWarning: IProgress not found. Please update jupyter and ipywidgets. See https://ipywidgets.readthedocs.io/en/stable/user_install.html\n",
      "  from .autonotebook import tqdm as notebook_tqdm\n"
     ]
    }
   ],
   "source": [
    "import torch\n",
    "import tokenizers\n",
    "from transformers import RobertaConfig, RobertaModel, AutoTokenizer, RobertaTokenizerFast\n",
    "import pandas"
   ]
  },
  {
   "cell_type": "code",
   "execution_count": 3,
   "outputs": [
    {
     "name": "stderr",
     "output_type": "stream",
     "text": [
      "C:\\Users\\David\\AppData\\Local\\Temp\\ipykernel_9260\\3468314195.py:3: DtypeWarning: Columns (1,5,6,30,55) have mixed types. Specify dtype option on import or set low_memory=False.\n",
      "  raw_data = pandas.read_csv(file, sep='\\t')\n"
     ]
    }
   ],
   "source": [
    "#file = r\"/media/david/T7/NCBI/E.Coli.Shigella/PDG000000004.3840.amr.metadata.tsv\"\n",
    "file = r\"D:\\Datasets\\NCBI\\E.Coli_Shigella\\PDG000000004.3840.amr.metadata.tsv\"\n",
    "raw_data = pandas.read_csv(file, sep='\\t')"
   ],
   "metadata": {
    "collapsed": false,
    "ExecuteTime": {
     "end_time": "2023-06-21T14:17:26.832384638Z",
     "start_time": "2023-06-21T14:17:24.592307427Z"
    }
   }
  },
  {
   "cell_type": "code",
   "execution_count": 34,
   "outputs": [],
   "source": [
    "genotype_data = raw_data[~raw_data.AMR_genotypes_core.isnull()]\n",
    "phenotype_data = raw_data[~raw_data.AST_phenotypes.isnull()]\n",
    "pheno_geno_data = raw_data[(~raw_data.AST_phenotypes.isnull()) & (~raw_data.AMR_genotypes_core.isnull())]"
   ],
   "metadata": {
    "collapsed": false,
    "ExecuteTime": {
     "end_time": "2023-06-21T14:17:26.917363272Z",
     "start_time": "2023-06-21T14:17:26.837807259Z"
    }
   }
  },
  {
   "cell_type": "code",
   "execution_count": 29,
   "outputs": [],
   "source": [
    "def mask_three_geno_fn(x, min_len=3):\n",
    "    all_items = x['AMR_genotypes_core'].split(',')\n",
    "    all_items = [a for a in all_items if \"=PARTIAL\" not in a]\n",
    "    all_items = [a for a in all_items if \"=PARTIAL_END_OF_CONTIG\" not in a]\n",
    "    return len(all_items) >= min_len"
   ],
   "metadata": {
    "collapsed": false,
    "ExecuteTime": {
     "end_time": "2023-06-21T14:17:27.361810782Z",
     "start_time": "2023-06-21T14:17:27.360134026Z"
    }
   }
  },
  {
   "cell_type": "code",
   "execution_count": 30,
   "outputs": [],
   "source": [
    "def mask_two_geno_fn(x, min_len=2):\n",
    "    all_items = x['AMR_genotypes_core'].split(',')\n",
    "    all_items = [a for a in all_items if \"=PARTIAL\" not in a]\n",
    "    all_items = [a for a in all_items if \"=PARTIAL_END_OF_CONTIG\" not in a]\n",
    "    return len(all_items) >= min_len"
   ],
   "metadata": {
    "collapsed": false,
    "pycharm": {
     "name": "#%%\n"
    }
   }
  },
  {
   "cell_type": "code",
   "execution_count": 49,
   "outputs": [],
   "source": [
    "def mask_one_pheno_fn(x, min_len=1):\n",
    "    all_items = x['AST_phenotypes'].split(',')\n",
    "    all_items = [a for a in all_items if \"=ND\" not in a]\n",
    "    all_items = [a for a in all_items if \"=\" in a]\n",
    "    return len(all_items) >= min_len"
   ],
   "metadata": {
    "collapsed": false,
    "pycharm": {
     "name": "#%%\n"
    }
   }
  },
  {
   "cell_type": "code",
   "execution_count": 73,
   "outputs": [
    {
     "name": "stdout",
     "output_type": "stream",
     "text": [
      "amikacin=ND,ampicillin=ND,ampicillin-sulbactam=ND,cefazolin=ND,cefotaxime=ND,cephalothin=ND,ciprofloxacin=ND,ertapenem=ND,gentamicin=ND,imipenem=ND,meropenem=R,tigecycline=ND\n"
     ]
    },
    {
     "data": {
      "text/plain": "\"aadA5 aph(3'')-Ib aph(6)-Id blaCTX-M-27 dfrA17 glpT_E448K=POINT gyrA_D87N=POINT gyrA_S83L=POINT mph(A) parC_E84V=POINT parC_S80I=POINT parE_I529L=POINT pmrB_E123D=POINT ptsI_V25I=POINT sul1 sul2 tet(A) uhpT_E350Q=POINT\""
     },
     "execution_count": 73,
     "metadata": {},
     "output_type": "execute_result"
    }
   ],
   "source": [
    "two_amr_one_pheno = pheno_geno_data[(pheno_geno_data.apply(mask_two_geno_fn, axis=1)) & (pheno_geno_data.apply(mask_one_pheno_fn, axis=1))]\n",
    "print(two_amr_one_pheno.loc[2262][\"AST_phenotypes\"])\n",
    "genotype_corpus = two_amr_one_pheno.AMR_genotypes_core.values.tolist()\n",
    "genotype_corpus = [g.replace(',', ' ') for g in genotype_corpus]\n",
    "phenotype_corpus = two_amr_one_pheno.AST_phenotypes.values.tolist()\n",
    "phenotype_corpus = [g.replace(' ', '_') for g in phenotype_corpus] # Spaces already exists in some names, first replacing them with underscores\n",
    "phenotype_corpus = [g.replace(',', ' ') for g in phenotype_corpus] #\n",
    "\n",
    "dataset = []\n",
    "for g, p in zip(genotype_corpus, phenotype_corpus):\n",
    "    label_list = p.split(' ')\n",
    "    pl = {}\n",
    "    for l in label_list:\n",
    "        nl = l.split('=')\n",
    "        if nl[1] == \"R\":\n",
    "            pl[nl[0]] = 1\n",
    "        elif nl[1] == \"S\":\n",
    "            pl[nl[0]] = 0\n",
    "    pl[\"genes\"] = g\n",
    "    dataset.append(pl)\n",
    "dataset[3][\"genes\"]"
   ],
   "metadata": {
    "collapsed": false,
    "ExecuteTime": {
     "end_time": "2023-06-21T14:24:46.610047693Z",
     "start_time": "2023-06-21T14:24:45.400478474Z"
    }
   }
  },
  {
   "cell_type": "code",
   "execution_count": 74,
   "outputs": [],
   "source": [
    "def get_genotype_corpus():\n",
    "    for start_idx in range(0, len(genotype_corpus), 1000):\n",
    "        samples = genotype_corpus[start_idx: start_idx + 1000]\n",
    "        yield samples"
   ],
   "metadata": {
    "collapsed": false,
    "ExecuteTime": {
     "end_time": "2023-06-21T14:25:00.137982416Z",
     "start_time": "2023-06-21T14:25:00.091290913Z"
    }
   }
  },
  {
   "cell_type": "code",
   "execution_count": 75,
   "outputs": [
    {
     "data": {
      "text/plain": "['aadA5',\n \"aph(3'')-Ib\",\n 'aph(6)-Id',\n 'blaCTX-M-27',\n 'dfrA17',\n 'glpT_E448K=POINT',\n 'gyrA_D87N=POINT',\n 'gyrA_S83L=POINT',\n 'mph(A)',\n 'parC_E84V=POINT',\n 'parC_S80I=POINT',\n 'parE_I529L=POINT',\n 'pmrB_E123D=POINT',\n 'ptsI_V25I=POINT',\n 'sul1',\n 'sul2',\n 'tet(A)',\n 'uhpT_E350Q=POINT']"
     },
     "execution_count": 75,
     "metadata": {},
     "output_type": "execute_result"
    }
   ],
   "source": [
    "training_genotype_corpus = get_genotype_corpus()\n",
    "tokenizer = RobertaTokenizerFast.from_pretrained(\"roberta-base\", add_prefix_space=True)\n",
    "tokenizer.backend_tokenizer.pre_tokenizer = tokenizers.pre_tokenizers.CharDelimiterSplit(' ')\n",
    "tokenizer.sep_token = None\n",
    "tokenizer.bos_token = None\n",
    "tokenizer.eos_token = None\n",
    "tokenizer = tokenizer.train_new_from_iterator(training_genotype_corpus, 500000)\n",
    "tokens = tokenizer.tokenize(dataset[3][\"genes\"])\n",
    "tokens"
   ],
   "metadata": {
    "collapsed": false,
    "ExecuteTime": {
     "end_time": "2023-06-21T14:33:22.031663501Z",
     "start_time": "2023-06-21T14:33:19.247438482Z"
    }
   }
  },
  {
   "cell_type": "code",
   "execution_count": 21,
   "outputs": [
    {
     "name": "stdout",
     "output_type": "stream",
     "text": [
      "torch.Size([1, 10])\n",
      "['<s>', 'glpT_E448K=POINT', 'marR_S3N=POINT', 'pmrB_E123D=POINT', '</s>', '<pad>', '<pad>', '<pad>', '<pad>', '<pad>']\n"
     ]
    }
   ],
   "source": [
    "encoded_dict = tokenizer.encode_plus(\n",
    "                example,       # Sentence to encode.\n",
    "                add_special_tokens = True, # Add '[CLS]' and '[SEP]'\n",
    "                max_length = 10,           # Pad & truncate all sentences.\n",
    "                padding = 'max_length',\n",
    "                return_attention_mask = True,   # Construct attn. masks.\n",
    "                return_tensors = 'pt',\n",
    "                return_token_type_ids=False,# Return pytorch tensors.\n",
    "                truncation=False,\n",
    "                is_split_into_words=False)\n",
    "input_ids = encoded_dict['input_ids']\n",
    "print(input_ids.shape)\n",
    "#tokenized = tokenizer.convert_ids_to_tokens([i.item() for i in input_ids.squeeze() if i > 1])\n",
    "tokenized = tokenizer.convert_ids_to_tokens([i.item() for i in input_ids.squeeze()])\n",
    "print(tokenized)"
   ],
   "metadata": {
    "collapsed": false,
    "ExecuteTime": {
     "end_time": "2023-06-21T14:21:52.310759950Z",
     "start_time": "2023-06-21T14:21:52.306558580Z"
    }
   }
  },
  {
   "cell_type": "code",
   "execution_count": 57,
   "outputs": [
    {
     "data": {
      "text/plain": "148       Hemorrhagic colitis, HUS\n227                 not determined\n228                       diarrhea\n272                       diarrhea\n273                       diarrhea\n                    ...           \n318690                Colonisation\n318691     Urinary Tract Infection\n318692                Colonisation\n318693     Urinary Tract Infection\n318694                Colonisation\nName: host_disease, Length: 61416, dtype: object"
     },
     "execution_count": 57,
     "metadata": {},
     "output_type": "execute_result"
    }
   ],
   "source": [
    "raw_data[~raw_data.host_disease.isnull()][\"host_disease\"]"
   ],
   "metadata": {
    "collapsed": false,
    "ExecuteTime": {
     "end_time": "2023-06-21T14:17:30.971524974Z",
     "start_time": "2023-06-21T14:17:30.969186288Z"
    }
   }
  },
  {
   "cell_type": "code",
   "execution_count": 63,
   "outputs": [
    {
     "name": "stderr",
     "output_type": "stream",
     "text": [
      "C:\\Users\\David\\AppData\\Local\\Temp\\ipykernel_12324\\3765494842.py:2: UserWarning: Boolean Series key will be reindexed to match DataFrame index.\n",
      "  geno_pheno[geno_pheno.apply(mask_two_geno_fn, axis=1)][geno_pheno.apply(mask_one_pheno_fn, axis=1)]\n"
     ]
    },
    {
     "data": {
      "text/plain": "                                                   #label FDA_lab_id  \\\n1615    PDT000018993.1|SAMN02138670|GCA_000492235.1|Es...        NaN   \n1625    PDT000019184.2|SAMN02138669|GCA_000492255.1|Es...        NaN   \n1738    PDT000020617.1|SAMN02138649|GCA_000522145.1|Es...        NaN   \n1739    PDT000020619.2|SAMN02138646|GCA_000522185.2|Es...        NaN   \n1740    PDT000020626.1|SAMN02138602|GCA_000522325.1|Es...        NaN   \n...                                                   ...        ...   \n315521  PDT001769948.1|SAMN28235850||Escherichia coli|...        NaN   \n315522  PDT001769950.1|SAMN28235848||Escherichia coli|...        NaN   \n315523  PDT001769952.1|SAMN28235846||Escherichia coli|...        NaN   \n315524  PDT001769956.1|SAMN28235834||Escherichia coli|...        NaN   \n315525  PDT001769959.1|SAMN34111348||Escherichia coli|...        NaN   \n\n        HHS_region IFSAC_category LibraryLayout PFGE_PrimaryEnzyme_pattern  \\\n1615           NaN            NaN           NaN                        NaN   \n1625           NaN            NaN           NaN                        NaN   \n1738           NaN            NaN           NaN                        NaN   \n1739           NaN            NaN           NaN                        NaN   \n1740           NaN            NaN           NaN                        NaN   \n...            ...            ...           ...                        ...   \n315521         NaN            NaN        PAIRED                        NaN   \n315522         NaN            NaN        PAIRED                        NaN   \n315523         NaN            NaN        PAIRED                        NaN   \n315524         NaN            NaN        PAIRED                        NaN   \n315525         NaN            NaN        PAIRED                        NaN   \n\n       PFGE_SecondaryEnzyme_pattern  Platform          Run          asm_acc  \\\n1615                            NaN       NaN          NaN  GCA_000492235.1   \n1625                            NaN       NaN          NaN  GCA_000492255.1   \n1738                            NaN       NaN          NaN  GCA_000522145.1   \n1739                            NaN       NaN          NaN  GCA_000522185.2   \n1740                            NaN       NaN          NaN  GCA_000522325.1   \n...                             ...       ...          ...              ...   \n315521                          NaN  ILLUMINA  SRR19200984              NaN   \n315522                          NaN  ILLUMINA  SRR19200986              NaN   \n315523                          NaN  ILLUMINA  SRR19200988              NaN   \n315524                          NaN  ILLUMINA  SRR19200992              NaN   \n315525                          NaN  ILLUMINA  SRR24102320              NaN   \n\n        ...                                      AMR_genotypes  \\\n1615    ...  aac(3)-VIa,aadA1,acrF,aph(3'')-Ib,aph(6)-Id,bl...   \n1625    ...  aadA5,acrF,blaEC,blaTEM-1,dfrA17,glpT_E448K=PO...   \n1738    ...  aadA5,acrF,aph(3'')-Ib,aph(6)-Id,blaEC,blaKPC-...   \n1739    ...  aac(3)-IIg,aac(6')-IIc,acrF,arr,blaEC,blaKPC-2...   \n1740    ...  aadA5,acrF,aph(3'')-Ib,aph(6)-Id,blaCTX-M-15,b...   \n...     ...                                                ...   \n315521  ...  aac(3)-IIe,aadA2,acrF,acrR_R45C=POINT,blaCTX-M...   \n315522  ...  aac(3)-IId,aadA5,acrF,blaCTX-M-14,blaEC,dfrA17...   \n315523  ...  aadA1,acrF,ant(2'')-Ia,blaCTX-M-14,blaEC,cmlA6...   \n315524  ...  aadA5,acrF,aph(3'')-Ib,aph(6)-Id,blaCTX-M-55,b...   \n315525  ...  aac(3)-IId,aadA2,acrF,blaCTX-M-15,blaDHA-1,bla...   \n\n                                       AMR_genotypes_core  \\\n1615    aac(3)-VIa,aadA1,aph(3'')-Ib,aph(6)-Id,blaHER-...   \n1625    aadA5,blaTEM-1,dfrA17,glpT_E448K=POINT,gyrA_D8...   \n1738    aadA5,aph(3'')-Ib,aph(6)-Id,blaKPC-3,dfrA17,gl...   \n1739    aac(3)-IIg,aac(6')-IIc,arr,blaKPC-2,blaSHV-12,...   \n1740    aadA5,aph(3'')-Ib,aph(6)-Id,blaCTX-M-15,cyaA_S...   \n...                                                   ...   \n315521  aac(3)-IIe,aadA2,acrR_R45C=POINT,blaCTX-M-14,c...   \n315522  aac(3)-IId,aadA5,blaCTX-M-14,dfrA17,glpT_E448K...   \n315523  aadA1,ant(2'')-Ia,blaCTX-M-14,cmlA6,cyaA_S352T...   \n315524  aadA5,aph(3'')-Ib,aph(6)-Id,blaCTX-M-55,blaTEM...   \n315525  aac(3)-IId,aadA2,blaCTX-M-15,blaDHA-1,blaNDM-5...   \n\n        number_stress_genes  \\\n1615                     18   \n1625                      3   \n1738                      7   \n1739                     17   \n1740                      3   \n...                     ...   \n315521                    3   \n315522                    3   \n315523                    2   \n315524                    6   \n315525                    4   \n\n                                         stress_genotypes  \\\n1615    pcoA,pcoB,pcoC,pcoD,pcoR,pcoS,qacEdelta1,silA,...   \n1625                                 emrE,qacEdelta1,ymgB   \n1738             emrE,ncrA,ncrB,ncrC,ncrY,qacEdelta1,ymgB   \n1739    arsA,arsD,arsR,emrE,merA,merC=HMM,merD,merE,me...   \n1740                                 emrE,qacEdelta1,ymgB   \n...                                                   ...   \n315521                               emrE,qacEdelta1,ymgB   \n315522                               emrE,qacEdelta1,ymgB   \n315523                                    qacEdelta1,ymgB   \n315524                merC,merP,merR,merT,qacEdelta1,ymgB   \n315525    emrE,qacE=PARTIAL_END_OF_CONTIG,qacEdelta1,ymgB   \n\n       number_virulence_genes  \\\n1615                        2   \n1625                       16   \n1738                       14   \n1739                        9   \n1740                       13   \n...                       ...   \n315521                      7   \n315522                     15   \n315523                     16   \n315524                      9   \n315525                      9   \n\n                                      virulence_genotypes amrfinder_version  \\\n1615                                   espX1=PARTIAL,fdeC           3.11.14   \n1625    afaC,fdeC,iha,iss,iucA,iucB,iucC,iucD,iutA,nfa...           3.11.14   \n1738    fdeC,iha,iss,iucA,iucB,iucC,iucD,iutA,papA=PAR...           3.11.14   \n1739    eilA,espX1,fdeC,iss,lpfA,sinH=HMM,sslE=HMM,ybt...           3.10.40   \n1740    air=PARTIAL,eilA,espX1,fdeC,iucA,iucB,iucC,iuc...           3.11.14   \n...                                                   ...               ...   \n315521                 astA,eilA,espX1,fdeC,iss,ybtP,ybtQ           3.11.14   \n315522  cnf1,fdeC,ireA,iss,papA,papC,papE,papF,papG-II...           3.11.14   \n315523  afaC,eilA,espX1,fdeC,iha,iss,iucA,iucB,iucC,iu...           3.11.14   \n315524  cvaC=PARTIAL,cvaC=PARTIAL_END_OF_CONTIG,espX1,...           3.11.14   \n315525   eilA,espX1,fdeC,papA,papC,papF,papG-II,ybtP,ybtQ           3.11.14   \n\n       refgene_db_version amrfinder_analysis_type amrfinder_applied  \n1615         2023-04-17.1                COMBINED                 1  \n1625         2023-04-17.1                COMBINED                 1  \n1738         2023-04-17.1                COMBINED                 1  \n1739         2022-08-09.1                COMBINED                 1  \n1740         2023-04-17.1                COMBINED                 1  \n...                   ...                     ...               ...  \n315521       2023-04-17.1              NUCLEOTIDE                 1  \n315522       2023-04-17.1              NUCLEOTIDE                 1  \n315523       2023-04-17.1              NUCLEOTIDE                 1  \n315524       2023-04-17.1              NUCLEOTIDE                 1  \n315525       2023-04-17.1              NUCLEOTIDE                 1  \n\n[4759 rows x 66 columns]",
      "text/html": "<div>\n<style scoped>\n    .dataframe tbody tr th:only-of-type {\n        vertical-align: middle;\n    }\n\n    .dataframe tbody tr th {\n        vertical-align: top;\n    }\n\n    .dataframe thead th {\n        text-align: right;\n    }\n</style>\n<table border=\"1\" class=\"dataframe\">\n  <thead>\n    <tr style=\"text-align: right;\">\n      <th></th>\n      <th>#label</th>\n      <th>FDA_lab_id</th>\n      <th>HHS_region</th>\n      <th>IFSAC_category</th>\n      <th>LibraryLayout</th>\n      <th>PFGE_PrimaryEnzyme_pattern</th>\n      <th>PFGE_SecondaryEnzyme_pattern</th>\n      <th>Platform</th>\n      <th>Run</th>\n      <th>asm_acc</th>\n      <th>...</th>\n      <th>AMR_genotypes</th>\n      <th>AMR_genotypes_core</th>\n      <th>number_stress_genes</th>\n      <th>stress_genotypes</th>\n      <th>number_virulence_genes</th>\n      <th>virulence_genotypes</th>\n      <th>amrfinder_version</th>\n      <th>refgene_db_version</th>\n      <th>amrfinder_analysis_type</th>\n      <th>amrfinder_applied</th>\n    </tr>\n  </thead>\n  <tbody>\n    <tr>\n      <th>1615</th>\n      <td>PDT000018993.1|SAMN02138670|GCA_000492235.1|Es...</td>\n      <td>NaN</td>\n      <td>NaN</td>\n      <td>NaN</td>\n      <td>NaN</td>\n      <td>NaN</td>\n      <td>NaN</td>\n      <td>NaN</td>\n      <td>NaN</td>\n      <td>GCA_000492235.1</td>\n      <td>...</td>\n      <td>aac(3)-VIa,aadA1,acrF,aph(3'')-Ib,aph(6)-Id,bl...</td>\n      <td>aac(3)-VIa,aadA1,aph(3'')-Ib,aph(6)-Id,blaHER-...</td>\n      <td>18</td>\n      <td>pcoA,pcoB,pcoC,pcoD,pcoR,pcoS,qacEdelta1,silA,...</td>\n      <td>2</td>\n      <td>espX1=PARTIAL,fdeC</td>\n      <td>3.11.14</td>\n      <td>2023-04-17.1</td>\n      <td>COMBINED</td>\n      <td>1</td>\n    </tr>\n    <tr>\n      <th>1625</th>\n      <td>PDT000019184.2|SAMN02138669|GCA_000492255.1|Es...</td>\n      <td>NaN</td>\n      <td>NaN</td>\n      <td>NaN</td>\n      <td>NaN</td>\n      <td>NaN</td>\n      <td>NaN</td>\n      <td>NaN</td>\n      <td>NaN</td>\n      <td>GCA_000492255.1</td>\n      <td>...</td>\n      <td>aadA5,acrF,blaEC,blaTEM-1,dfrA17,glpT_E448K=PO...</td>\n      <td>aadA5,blaTEM-1,dfrA17,glpT_E448K=POINT,gyrA_D8...</td>\n      <td>3</td>\n      <td>emrE,qacEdelta1,ymgB</td>\n      <td>16</td>\n      <td>afaC,fdeC,iha,iss,iucA,iucB,iucC,iucD,iutA,nfa...</td>\n      <td>3.11.14</td>\n      <td>2023-04-17.1</td>\n      <td>COMBINED</td>\n      <td>1</td>\n    </tr>\n    <tr>\n      <th>1738</th>\n      <td>PDT000020617.1|SAMN02138649|GCA_000522145.1|Es...</td>\n      <td>NaN</td>\n      <td>NaN</td>\n      <td>NaN</td>\n      <td>NaN</td>\n      <td>NaN</td>\n      <td>NaN</td>\n      <td>NaN</td>\n      <td>NaN</td>\n      <td>GCA_000522145.1</td>\n      <td>...</td>\n      <td>aadA5,acrF,aph(3'')-Ib,aph(6)-Id,blaEC,blaKPC-...</td>\n      <td>aadA5,aph(3'')-Ib,aph(6)-Id,blaKPC-3,dfrA17,gl...</td>\n      <td>7</td>\n      <td>emrE,ncrA,ncrB,ncrC,ncrY,qacEdelta1,ymgB</td>\n      <td>14</td>\n      <td>fdeC,iha,iss,iucA,iucB,iucC,iucD,iutA,papA=PAR...</td>\n      <td>3.11.14</td>\n      <td>2023-04-17.1</td>\n      <td>COMBINED</td>\n      <td>1</td>\n    </tr>\n    <tr>\n      <th>1739</th>\n      <td>PDT000020619.2|SAMN02138646|GCA_000522185.2|Es...</td>\n      <td>NaN</td>\n      <td>NaN</td>\n      <td>NaN</td>\n      <td>NaN</td>\n      <td>NaN</td>\n      <td>NaN</td>\n      <td>NaN</td>\n      <td>NaN</td>\n      <td>GCA_000522185.2</td>\n      <td>...</td>\n      <td>aac(3)-IIg,aac(6')-IIc,acrF,arr,blaEC,blaKPC-2...</td>\n      <td>aac(3)-IIg,aac(6')-IIc,arr,blaKPC-2,blaSHV-12,...</td>\n      <td>17</td>\n      <td>arsA,arsD,arsR,emrE,merA,merC=HMM,merD,merE,me...</td>\n      <td>9</td>\n      <td>eilA,espX1,fdeC,iss,lpfA,sinH=HMM,sslE=HMM,ybt...</td>\n      <td>3.10.40</td>\n      <td>2022-08-09.1</td>\n      <td>COMBINED</td>\n      <td>1</td>\n    </tr>\n    <tr>\n      <th>1740</th>\n      <td>PDT000020626.1|SAMN02138602|GCA_000522325.1|Es...</td>\n      <td>NaN</td>\n      <td>NaN</td>\n      <td>NaN</td>\n      <td>NaN</td>\n      <td>NaN</td>\n      <td>NaN</td>\n      <td>NaN</td>\n      <td>NaN</td>\n      <td>GCA_000522325.1</td>\n      <td>...</td>\n      <td>aadA5,acrF,aph(3'')-Ib,aph(6)-Id,blaCTX-M-15,b...</td>\n      <td>aadA5,aph(3'')-Ib,aph(6)-Id,blaCTX-M-15,cyaA_S...</td>\n      <td>3</td>\n      <td>emrE,qacEdelta1,ymgB</td>\n      <td>13</td>\n      <td>air=PARTIAL,eilA,espX1,fdeC,iucA,iucB,iucC,iuc...</td>\n      <td>3.11.14</td>\n      <td>2023-04-17.1</td>\n      <td>COMBINED</td>\n      <td>1</td>\n    </tr>\n    <tr>\n      <th>...</th>\n      <td>...</td>\n      <td>...</td>\n      <td>...</td>\n      <td>...</td>\n      <td>...</td>\n      <td>...</td>\n      <td>...</td>\n      <td>...</td>\n      <td>...</td>\n      <td>...</td>\n      <td>...</td>\n      <td>...</td>\n      <td>...</td>\n      <td>...</td>\n      <td>...</td>\n      <td>...</td>\n      <td>...</td>\n      <td>...</td>\n      <td>...</td>\n      <td>...</td>\n      <td>...</td>\n    </tr>\n    <tr>\n      <th>315521</th>\n      <td>PDT001769948.1|SAMN28235850||Escherichia coli|...</td>\n      <td>NaN</td>\n      <td>NaN</td>\n      <td>NaN</td>\n      <td>PAIRED</td>\n      <td>NaN</td>\n      <td>NaN</td>\n      <td>ILLUMINA</td>\n      <td>SRR19200984</td>\n      <td>NaN</td>\n      <td>...</td>\n      <td>aac(3)-IIe,aadA2,acrF,acrR_R45C=POINT,blaCTX-M...</td>\n      <td>aac(3)-IIe,aadA2,acrR_R45C=POINT,blaCTX-M-14,c...</td>\n      <td>3</td>\n      <td>emrE,qacEdelta1,ymgB</td>\n      <td>7</td>\n      <td>astA,eilA,espX1,fdeC,iss,ybtP,ybtQ</td>\n      <td>3.11.14</td>\n      <td>2023-04-17.1</td>\n      <td>NUCLEOTIDE</td>\n      <td>1</td>\n    </tr>\n    <tr>\n      <th>315522</th>\n      <td>PDT001769950.1|SAMN28235848||Escherichia coli|...</td>\n      <td>NaN</td>\n      <td>NaN</td>\n      <td>NaN</td>\n      <td>PAIRED</td>\n      <td>NaN</td>\n      <td>NaN</td>\n      <td>ILLUMINA</td>\n      <td>SRR19200986</td>\n      <td>NaN</td>\n      <td>...</td>\n      <td>aac(3)-IId,aadA5,acrF,blaCTX-M-14,blaEC,dfrA17...</td>\n      <td>aac(3)-IId,aadA5,blaCTX-M-14,dfrA17,glpT_E448K...</td>\n      <td>3</td>\n      <td>emrE,qacEdelta1,ymgB</td>\n      <td>15</td>\n      <td>cnf1,fdeC,ireA,iss,papA,papC,papE,papF,papG-II...</td>\n      <td>3.11.14</td>\n      <td>2023-04-17.1</td>\n      <td>NUCLEOTIDE</td>\n      <td>1</td>\n    </tr>\n    <tr>\n      <th>315523</th>\n      <td>PDT001769952.1|SAMN28235846||Escherichia coli|...</td>\n      <td>NaN</td>\n      <td>NaN</td>\n      <td>NaN</td>\n      <td>PAIRED</td>\n      <td>NaN</td>\n      <td>NaN</td>\n      <td>ILLUMINA</td>\n      <td>SRR19200988</td>\n      <td>NaN</td>\n      <td>...</td>\n      <td>aadA1,acrF,ant(2'')-Ia,blaCTX-M-14,blaEC,cmlA6...</td>\n      <td>aadA1,ant(2'')-Ia,blaCTX-M-14,cmlA6,cyaA_S352T...</td>\n      <td>2</td>\n      <td>qacEdelta1,ymgB</td>\n      <td>16</td>\n      <td>afaC,eilA,espX1,fdeC,iha,iss,iucA,iucB,iucC,iu...</td>\n      <td>3.11.14</td>\n      <td>2023-04-17.1</td>\n      <td>NUCLEOTIDE</td>\n      <td>1</td>\n    </tr>\n    <tr>\n      <th>315524</th>\n      <td>PDT001769956.1|SAMN28235834||Escherichia coli|...</td>\n      <td>NaN</td>\n      <td>NaN</td>\n      <td>NaN</td>\n      <td>PAIRED</td>\n      <td>NaN</td>\n      <td>NaN</td>\n      <td>ILLUMINA</td>\n      <td>SRR19200992</td>\n      <td>NaN</td>\n      <td>...</td>\n      <td>aadA5,acrF,aph(3'')-Ib,aph(6)-Id,blaCTX-M-55,b...</td>\n      <td>aadA5,aph(3'')-Ib,aph(6)-Id,blaCTX-M-55,blaTEM...</td>\n      <td>6</td>\n      <td>merC,merP,merR,merT,qacEdelta1,ymgB</td>\n      <td>9</td>\n      <td>cvaC=PARTIAL,cvaC=PARTIAL_END_OF_CONTIG,espX1,...</td>\n      <td>3.11.14</td>\n      <td>2023-04-17.1</td>\n      <td>NUCLEOTIDE</td>\n      <td>1</td>\n    </tr>\n    <tr>\n      <th>315525</th>\n      <td>PDT001769959.1|SAMN34111348||Escherichia coli|...</td>\n      <td>NaN</td>\n      <td>NaN</td>\n      <td>NaN</td>\n      <td>PAIRED</td>\n      <td>NaN</td>\n      <td>NaN</td>\n      <td>ILLUMINA</td>\n      <td>SRR24102320</td>\n      <td>NaN</td>\n      <td>...</td>\n      <td>aac(3)-IId,aadA2,acrF,blaCTX-M-15,blaDHA-1,bla...</td>\n      <td>aac(3)-IId,aadA2,blaCTX-M-15,blaDHA-1,blaNDM-5...</td>\n      <td>4</td>\n      <td>emrE,qacE=PARTIAL_END_OF_CONTIG,qacEdelta1,ymgB</td>\n      <td>9</td>\n      <td>eilA,espX1,fdeC,papA,papC,papF,papG-II,ybtP,ybtQ</td>\n      <td>3.11.14</td>\n      <td>2023-04-17.1</td>\n      <td>NUCLEOTIDE</td>\n      <td>1</td>\n    </tr>\n  </tbody>\n</table>\n<p>4759 rows × 66 columns</p>\n</div>"
     },
     "execution_count": 63,
     "metadata": {},
     "output_type": "execute_result"
    }
   ],
   "source": [
    "geno_pheno = genotype_data[~genotype_data.AST_phenotypes.isnull()]\n",
    "geno_pheno[geno_pheno.apply(mask_two_geno_fn, axis=1)][geno_pheno.apply(mask_one_pheno_fn, axis=1)]"
   ],
   "metadata": {
    "collapsed": false,
    "ExecuteTime": {
     "end_time": "2023-06-21T14:17:30.982620463Z",
     "start_time": "2023-06-21T14:17:30.972714719Z"
    }
   }
  },
  {
   "cell_type": "code",
   "execution_count": 65,
   "outputs": [
    {
     "name": "stderr",
     "output_type": "stream",
     "text": [
      "C:\\Users\\David\\AppData\\Local\\Temp\\ipykernel_12324\\2686540856.py:1: UserWarning: Boolean Series key will be reindexed to match DataFrame index.\n",
      "  geno_pheno[geno_pheno.apply(mask_two_geno_fn, axis=1)][geno_pheno.apply(mask_one_pheno_fn, axis=1)][~geno_pheno.host_disease.isnull()][\"host_disease\"]\n",
      "C:\\Users\\David\\AppData\\Local\\Temp\\ipykernel_12324\\2686540856.py:1: UserWarning: Boolean Series key will be reindexed to match DataFrame index.\n",
      "  geno_pheno[geno_pheno.apply(mask_two_geno_fn, axis=1)][geno_pheno.apply(mask_one_pheno_fn, axis=1)][~geno_pheno.host_disease.isnull()][\"host_disease\"]\n"
     ]
    },
    {
     "data": {
      "text/plain": "2825                        Wound\n2826                        Wound\n22640                 skin lesion\n26436     Urinary tract infection\n26782                 Bacteriuria\n                   ...           \n278153                  Not known\n278154                  Not known\n286188              not collected\n303750                shigellosis\n314993    Urinary Tract Infection\nName: host_disease, Length: 2212, dtype: object"
     },
     "execution_count": 65,
     "metadata": {},
     "output_type": "execute_result"
    }
   ],
   "source": [
    "geno_pheno[geno_pheno.apply(mask_two_geno_fn, axis=1)][geno_pheno.apply(mask_one_pheno_fn, axis=1)][~geno_pheno.host_disease.isnull()][\"host_disease\"]"
   ],
   "metadata": {
    "collapsed": false,
    "ExecuteTime": {
     "end_time": "2023-06-21T14:17:31.029818675Z",
     "start_time": "2023-06-21T14:17:31.029538414Z"
    }
   }
  },
  {
   "cell_type": "code",
   "execution_count": null,
   "outputs": [],
   "source": [],
   "metadata": {
    "collapsed": false,
    "pycharm": {
     "name": "#%%\n"
    }
   }
  }
 ],
 "metadata": {
  "kernelspec": {
   "display_name": "Python 3",
   "language": "python",
   "name": "python3"
  },
  "language_info": {
   "codemirror_mode": {
    "name": "ipython",
    "version": 2
   },
   "file_extension": ".py",
   "mimetype": "text/x-python",
   "name": "python",
   "nbconvert_exporter": "python",
   "pygments_lexer": "ipython2",
   "version": "2.7.6"
  }
 },
 "nbformat": 4,
 "nbformat_minor": 0
}