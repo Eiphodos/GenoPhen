{
 "cells": [
  {
   "cell_type": "code",
   "execution_count": null,
   "metadata": {
    "collapsed": true
   },
   "outputs": [],
   "source": [
    "import torch\n",
    "from transformers import RobertaConfig, RobertaModel, AutoTokenizer, RobertaTokenizerFast\n",
    "import pandas"
   ]
  },
  {
   "cell_type": "code",
   "execution_count": null,
   "outputs": [],
   "source": [
    "file = r\"/media/david/T7/NCBI/E.Coli.Shigella/PDG000000004.3840.amr.metadata.tsv\"\n",
    "raw_data = pandas.read_csv(file, sep='\\t')"
   ],
   "metadata": {
    "collapsed": false,
    "pycharm": {
     "name": "#%%\n"
    }
   }
  },
  {
   "cell_type": "code",
   "execution_count": null,
   "outputs": [],
   "source": [
    "genotype_data = raw_data[~raw_data.AMR_genotypes_core.isnull()]\n",
    "phenotype_data = raw_data[~raw_data.AST_phenotypes.isnull()]"
   ],
   "metadata": {
    "collapsed": false,
    "pycharm": {
     "name": "#%%\n"
    }
   }
  },
  {
   "cell_type": "code",
   "execution_count": null,
   "outputs": [],
   "source": [
    "def mask_three_geno_fn(x, min_len=3):\n",
    "    all_items = x['AMR_genotypes_core'].split(',')\n",
    "    all_items = [a for a in all_items if \"=PARTIAL\" not in a]\n",
    "    all_items = [a for a in all_items if \"=PARTIAL_END_OF_CONTIG\" not in a]\n",
    "    return len(all_items) >= min_len"
   ],
   "metadata": {
    "collapsed": false,
    "pycharm": {
     "name": "#%%\n"
    }
   }
  },
  {
   "cell_type": "code",
   "execution_count": null,
   "outputs": [],
   "source": [
    "three_amr = genotype_data[genotype_data.apply(mask_three_geno_fn, axis=1)]\n",
    "genotype_corpus = three_amr.AMR_genotypes_core.values.tolist()"
   ],
   "metadata": {
    "collapsed": false,
    "pycharm": {
     "name": "#%%\n"
    }
   }
  }
 ],
 "metadata": {
  "kernelspec": {
   "display_name": "Python 3",
   "language": "python",
   "name": "python3"
  },
  "language_info": {
   "codemirror_mode": {
    "name": "ipython",
    "version": 2
   },
   "file_extension": ".py",
   "mimetype": "text/x-python",
   "name": "python",
   "nbconvert_exporter": "python",
   "pygments_lexer": "ipython2",
   "version": "2.7.6"
  }
 },
 "nbformat": 4,
 "nbformat_minor": 0
}